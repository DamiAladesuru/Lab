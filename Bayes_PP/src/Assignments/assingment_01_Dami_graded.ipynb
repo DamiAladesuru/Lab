{
 "cells": [
  {
   "cell_type": "markdown",
   "id": "8b37797d",
   "metadata": {},
   "source": [
    "Before you turn this problem in, make sure everything runs as expected. First, **restart the kernel** (in the menubar, select Kernel $\\rightarrow$ Restart) and then **run all cells** (in the menubar, select Cell $\\rightarrow$ Run All).\n",
    "\n",
    "Make sure you fill in any place that says `YOUR CODE HERE` or \"YOUR ANSWER HERE\", as well as your name and collaborators below:"
   ]
  },
  {
   "cell_type": "code",
   "execution_count": 1,
   "id": "d4661afa",
   "metadata": {},
   "outputs": [],
   "source": [
    "NAME = \"Damilola Aladesuru\""
   ]
  },
  {
   "cell_type": "markdown",
   "id": "a8a67b7c-560d-4da2-b610-0570ad399891",
   "metadata": {},
   "source": [
    "<div class=\"alert alert-block alert-danger\">\n",
    "\n",
    "Total Points: 29/33 \n",
    "\n",
    "Grade: 1.7\n",
    "\n",
    "</div>"
   ]
  },
  {
   "cell_type": "markdown",
   "id": "6a6bf9a2",
   "metadata": {},
   "source": [
    "---"
   ]
  },
  {
   "cell_type": "markdown",
   "id": "95e4cfe4-79da-4f9f-9ef0-c727cb2380b2",
   "metadata": {},
   "source": [
    "***\n",
    "# Graded Assignment General Overview\n",
    "\n",
    "During the course, we will have three graded assignments. In these three assignments, you will go through the entire Probabilistic Programming (PP) workflow we cover in the course. In the first assignment, we will start with the first three steps of the workflow; assignment two will cover steps 4 and 5, and assignment three will cover step 6:\n",
    "\n",
    "|Assignment|Workflow Step|\n",
    "|---|---|\n",
    "|Assignment 1|1. Quantity to estimate|\n",
    "|            |2. Scientific Model|\n",
    "|            |3. Statistical Model|\n",
    "|Assignment 2|4. Synthetic Data|\n",
    "|            |5. Testing|\n",
    "|Assignment 3|6. Real data|\n",
    "\n",
    "\n",
    "__Background Paper__\n",
    "\n",
    "You will implement the workflow for a specific research project. We will use an existing paper as a basis (see table). While the paper is important for background information, in most parts, the assignment will be based on the preregistration that belongs to the paper. A preregistration is a document that outlines the research question, survey design, and estimation approach before the actual experiment is conducted. The data used in the paper is also publicly available, but there is no need to download it now; this will be done within the assignments.\n",
    "\n",
    "|Resource|Title|Link|\n",
    "|-----------|---------|---------|\n",
    "|Paper |Zachmann, L., McCallum, C., & Finger, R. (2023). Nudging farmers towards low‐pesticide practices: Evidence from a randomized experiment in viticulture. Journal of the Agricultural and Applied Economics Association, 2(3), 497-514.|[https://doi.org/10.1002/jaa2.76  ](https://doi.org/10.1002/jaa2.76  ) |\n",
    "|Preregistration|Zachmann, L., McCallum, C., & Finger, R. 'Uptake of fungi-resistant grapevines: The effect of personalized vs general risk exposure information'. Pre-registered on 01/12/2022, AsPredicted #84972.| [https://aspredicted.org/fb2c9.pdf](https://aspredicted.org/fb2c9.pdf) |\n",
    "|Open Data|Data on Swiss grapevine growers’ production, pest management and risk management decisions| [https://doi.org/10.3929/ethz-b-000568595  ](https://doi.org/10.3929/ethz-b-000568595  ) |\n",
    "\n",
    "__Aim of the Assignments__ \n",
    "\n",
    "The paper does not use a PP workflow but uses frequentist estimation methods. We will rebuild the entire research process using the PP workflow and estimate the quantities of interest using Bayesian methods. The paper conducts a survey with farmers to gather the data required for answering the research question. This could be similar to what you could do for your master's thesis. By working on the assignment, you practice how the PP workflow can be implemented for an actual research project. Additionally, it prepares you for applying it to your own research project.    \n",
    "\n",
    "*Heads up!* Be prepared that this will be quite a challenge and that for most of the questions there is not a single or clear-cut answer. Actually, an important learning outcome is that on the way to answering the research question, we need to make many (subjective) choices, and many alternative specifications or options would also be possible and justified. In terms of the grading, this means that the aim is not to find *one* correct answer (which does not exist) but rather to document and explain that you have thought about your choices and are aware of the implications.\n",
    "\n",
    "*Good luck!*\n",
    "\n",
    "***\n",
    "<div class=\"alert alert-block alert-warning\">\n",
    "    <b>Technical hint to write equations</b>\n",
    "\n",
    "To write equations within the notebook you can use Latex. If you are not familiar with Latex consider the existing equations as an example or [this](https://editor.codecogs.com/) or [this](https://www.cmor-faculty.rice.edu/~heinken/latex/symbols.pdf) webside might be useful. To render a Latex equation just place a Latex command between two dollar signs, e.g. $y_i \\sim Normal(\\mu,\\sigma)$\n",
    "If this does not work at all you could also prepare your solution on paper and then include it as an image in the notebook.\n",
    "\n",
    "</div>\n",
    "***\n",
    "***\n"
   ]
  },
  {
   "cell_type": "markdown",
   "id": "cd157699-7452-4f47-8af7-3d53d92a084d",
   "metadata": {},
   "source": [
    "## Assingment 01:\n",
    "1. Quantity to estimate\n",
    "3. Scientific Model\n",
    "4. Statistical Model"
   ]
  },
  {
   "cell_type": "code",
   "execution_count": 3,
   "id": "bc2399be-b0e8-4941-bbd3-adc61fe31451",
   "metadata": {},
   "outputs": [],
   "source": [
    "# Install required packaged (only need to be done once after each restart of the jupyter server)\n",
    "#!pip install -q pandas matplotlib seaborn numpyro==0.15.2 jax==0.4.26 jaxlib==0.4.26 arviz networkx daft\n",
    "!pip install -q pandas matplotlib seaborn numpyro==0.15.2 jax jaxlib arviz networkx daft\n",
    "%conda install python-graphviz # install graphviz using conda (seems not to work with pip)\n",
    "from IPython.display import clear_output\n",
    "clear_output(wait=False) # clear all the output from conda\n",
    "#can be usable in assignment to avoid extra output"
   ]
  },
  {
   "cell_type": "code",
   "execution_count": 4,
   "id": "48122839-817a-47ec-a42e-afd0aab526cb",
   "metadata": {},
   "outputs": [],
   "source": [
    "# Required imports\n",
    "from ipywidgets import interactive\n",
    "import matplotlib.pyplot as plt\n",
    "import numpy as np\n",
    "from graphviz import Digraph"
   ]
  },
  {
   "cell_type": "markdown",
   "id": "9c0b2342-1dc1-46af-a6cd-61290af7eba6",
   "metadata": {
    "deletable": false,
    "nbgrader": {
     "cell_type": "markdown",
     "checksum": "100c4acfe6834e298ca0eb6158ad2cb2",
     "grade": true,
     "grade_id": "cell-38ffcce5273f771c",
     "locked": false,
     "points": 3,
     "schema_version": 3,
     "solution": true,
     "task": false
    }
   },
   "source": [
    "***\n",
    "<div class=\"alert alert-block alert-success\">\n",
    "\n",
    "__*Task 1*: Research question__ (3 Points)\n",
    "\n",
    "</div>\n",
    "\n",
    "Consider the [preregistration](https://aspredicted.org/fb2c9.pdf) write down how you understand the general and more specific reseach question of the paper:\n",
    "\n",
    "***\n",
    "\n",
    "YOUR ANSWER HERE\n",
    "\n",
    "General: What is the effect of provision of personalized information about fungi risk exposure compared to general information?\n",
    "\n",
    "Specific: Does the provision of farm-practice-tailored information cause grapevine growers to update their intentions about the uptake of fungi-resistant grapevines and the use of pesticides?\n"
   ]
  },
  {
   "cell_type": "markdown",
   "id": "db967278-654e-4f61-b596-ea8f5ac5b210",
   "metadata": {},
   "source": [
    "<div class=\"alert alert-block alert-danger\">\n",
    "Points: 3/3 (1 Point general + 2 Points, mention both personalized vs general))\n",
    "\n",
    "\n",
    "</div>"
   ]
  },
  {
   "cell_type": "markdown",
   "id": "297660e5-51ff-47ba-b011-18685036cde5",
   "metadata": {
    "deletable": false,
    "nbgrader": {
     "cell_type": "markdown",
     "checksum": "85893d0434c09745d3f6690e5e242b1e",
     "grade": true,
     "grade_id": "cell-2813016c9d5d6403",
     "locked": false,
     "points": 5,
     "schema_version": 3,
     "solution": true,
     "task": false
    }
   },
   "source": [
    "***\n",
    "<div class=\"alert alert-block alert-success\">\n",
    "\n",
    "__*Task 2*: Hypothesis__ (5 Points)\n",
    "\n",
    "</div>\n",
    "\n",
    "\n",
    "Consider the [preregistration](https://aspredicted.org/fb2c9.pdf) write down how you understand the two main hypothesis (in your own words). Try to be as preceise as possible. In case you find the hypothesis unclear/unprecise discuss what you find unclear and how you could refine the hypothesis to make it clearer. \n",
    "\n",
    "***    \n",
    "\n",
    "YOUR ANSWER HERE\n",
    "\n",
    "Hypothesis A: <br>\n",
    "HA<sub>1</sub>: Compared to generalized information, provision of personalized information results in larger change in expected land devoted to fungi-resistant grapes in the future <br>\n",
    "HA<sub>0</sub>: There is no difference in change in expected land devoted to fungi-resistant grapes in the future as a result of the provision of personalized information rather than generalized information <br>\n",
    "\n",
    "Hypothesis B: <br>\n",
    "HB<sub>1</sub>: Personalized information affects the uncertainty related to the land devoted to fungi-resistant grapevines<br>\n",
    "HB<sub>0</sub>: Personalized information does not affect the uncertainty related to the land devoted to fungi-resistant grapevines<br>\n",
    "\n",
    "***"
   ]
  },
  {
   "cell_type": "markdown",
   "id": "9184cad1-d5fe-4e3e-b37b-7eda7056b14d",
   "metadata": {},
   "source": [
    "<div class=\"alert alert-block alert-danger\">\n",
    "Points: 3/5 (2 Points for each hypothesis, 1 Point discussing imprecision)) \n",
    "\n",
    "Feedback: Hypothesis B is the same as in the pre-registration. However, this hypothesis can be more precise by specifying the direction of the change in uncertainty. This imprecision is not discussed. More precisely, we could say: \"Because personalized information is more relevant for the farmer, personalized information reduces the uncertainty of the intention more than general information.\"\n",
    "</div>"
   ]
  },
  {
   "cell_type": "markdown",
   "id": "1627faf3-bb2a-4ff0-9027-fa45cd3077a9",
   "metadata": {},
   "source": [
    "__Background information for the next task__"
   ]
  },
  {
   "cell_type": "markdown",
   "id": "7c82137e-d11f-49a4-a71a-5cf0b44b2ffb",
   "metadata": {},
   "source": [
    "<div class=\"alert alert-block alert-warning\">\n",
    "<b>Background Information: Triangular distribution</b>\n",
    "\n",
    "The paper uses a triangular share distribution. Consider the following mathematical formulas and the code cell belwo to explore the triangular share distribution.\n",
    "\n",
    "The triangular distribution *pdf* (see [Hardaker et al., 2015](https://d1wqtxts1xzle7.cloudfront.net/56939027/Coping-With-Risk-in-Agriculture-libre.pdf?1530860172=&response-content-disposition=inline%3B+filename%3DCoping_With_Risk_in_Agriculture_J_Brian.pdf&Expires=1723204042&Signature=Vw8vdVH5bz0JxNXLqrljFmG3wnraElVmucVyx19l-BWjD8mTUDMXRDZhFoSMSIujIb0ky5BUvVXK1m-3VIidRWLVUeRI7oIVa3656L~2gt91uWMkJz0cnI3JeYNAOmXcPSPPsxwoIpuy8TGCauGg1x5JZKb3-sMlVCHwegV~J5siYbNizsXet356Zj8wXJsCK0gKIo-1eoHCpSr-~N928tdnU44jOZAPwPQna4RvDbFBZD30EDJAFCRggAOBHQXaZMbvf~vjSh0cr9rjMpxAL8XyMciOBj-JCG8Za8uvXCPStHDqGa0~~T0RtRI9Y85Ml0CEZ0A6ByQ-vgFLsGwjSQ__&Key-Pair-Id=APKAJLOHF5GGSLRBV4ZA), p. 45)\n",
    "\n",
    "$ f(x) = 0, x\\leq a $\n",
    "\n",
    "$ f(x) = 2(x-a)/(b-a)(m-a), x\\leq m $\n",
    "\n",
    "$ f(x) = 2(b-x)/(b-a)(b-m), x>m $\n",
    "\n",
    "$ f(x) = 0, b\\leq x $\n",
    "\n",
    "The triangular distribution *expected value*, *var*, *std* (see Appendix E or [wikipedia](https://en.wikipedia.org/wiki/Triangular_distribution))\n",
    "\n",
    "$E = (a+b+c)/3 $\n",
    "\n",
    "$Var = \\frac{a^2+b^2+c^2-ab-ac-bc}{18}$\n",
    "\n",
    "$Std = \\sqrt{Var} = \\sqrt{\\frac{a^2+b^2+c^2-ab-ac-bc}{18}}$\n",
    "</div>"
   ]
  },
  {
   "cell_type": "code",
   "execution_count": 4,
   "id": "9dc287ee-5bce-4882-b214-37ca882fd4bb",
   "metadata": {},
   "outputs": [
    {
     "data": {
      "application/vnd.jupyter.widget-view+json": {
       "model_id": "1a99d297b1044c64814777c702d4eb68",
       "version_major": 2,
       "version_minor": 0
      },
      "text/plain": [
       "interactive(children=(FloatSlider(value=0.0, description='a', max=1.0), FloatSlider(value=1.0, description='b'…"
      ]
     },
     "execution_count": 4,
     "metadata": {},
     "output_type": "execute_result"
    }
   ],
   "source": [
    "# Run this cell for an illustration of the triangular distribution\n",
    "def ptriangular(x,a,b,m):\n",
    "    \"\"\"\n",
    "    a = minimum\n",
    "    b = maxiumum\n",
    "    m = most likely\n",
    "    \"\"\"\n",
    "    if x<=m:\n",
    "        pdf = 2*(x-a)/((b-a)*(m-a))\n",
    "    else:\n",
    "        pdf = 2*(b-x)/((b-a)*(b-m))\n",
    "    if x<a:\n",
    "        pdf=0\n",
    "    if b<x:\n",
    "        pdf=0\n",
    "    return pdf\n",
    "\n",
    "def plot_ptriangular(a=0.,b=1,m=0.5):\n",
    "    if a>=b:\n",
    "        print(\"a need to be smaller then b\")\n",
    "        return\n",
    "    if (m<=a) |(m>=b):\n",
    "        print(\"m needs to be between a and b\")\n",
    "        return\n",
    "    \n",
    "    plt.figure(1, figsize=(3,3))\n",
    "    x_range = np.arange(0,1,0.1)\n",
    "    # Plot pdf\n",
    "    pdf = [ptriangular(x,a,b,m) for x in x_range]\n",
    "    plt.plot(x_range,pdf)\n",
    "    # Add expected value\n",
    "    expected_value = (a+b+m)/3\n",
    "    plt.axvline(x=expected_value, color='black',linestyle='dashed',)\n",
    "    plt.text(expected_value+0.01,0,'E(X)') \n",
    "    # Add variance\n",
    "    std_value =np.sqrt((a**2+b**2+m**2-a*b-a*m-b*m)/18)\n",
    "    plt.text(0,np.max(pdf)*0.95,f'Std(X)={std_value:.4f}') \n",
    "\n",
    "# interactive_plot = interactive(f, m=(-2.0, 2.0), b=(-3, 3, 0.5))\n",
    "interactive_plot = interactive(plot_ptriangular, a=(0,1,0.1), b = (0,1,0.1), m = (0,1,0.1))\n",
    "output = interactive_plot.children[-1]\n",
    "#output.layout.height = '350px'\n",
    "interactive_plot"
   ]
  },
  {
   "cell_type": "markdown",
   "id": "62c022e1-7176-4cd5-bbb0-682443e2128f",
   "metadata": {
    "deletable": false,
    "nbgrader": {
     "cell_type": "markdown",
     "checksum": "5b38779c70eda05c695da34ce5b1fdfc",
     "grade": true,
     "grade_id": "cell-7b6bff613e1c201a",
     "locked": false,
     "points": 9,
     "schema_version": 3,
     "solution": true,
     "task": false
    }
   },
   "source": [
    "***\n",
    "<div class=\"alert alert-block alert-success\">\n",
    "\n",
    "__*Task 3*: Scientific Model Praperation__ (9 Points)\n",
    "\n",
    "</div>\n",
    "\n",
    "Define a scientific model, based on the information provided in the [preregistration](https://aspredicted.org/fb2c9.pdf]) or your own understanding of the problem\n",
    "\n",
    "***\n",
    "\n",
    "3a) Define the two outcome variable $Y_1$ and $Y_2$ for the two hypothesis. For each define them verbaly and in terms of the triangular distribution. (4 Point)\n",
    "\n",
    "HA compares \"change in expected land devoted to fungi-resistant grapes in the future (10 years)\" based on treatments: general information (G) or personalized information (P)\n",
    "\n",
    "$S_i$ = expected land devoted to fungi-resistant grapes in 10 years <br>\n",
    "E[$S_i$] = average $S_i$\n",
    "\n",
    "Therefore, for HA, we need to compute change in E[$S_i$] and compare this between group to see the difference in treatment effects. <br>\n",
    "According to triangular distribution, mean of pdf i.e E[$S_i$] is = (a+b+m)/3.   <br>\n",
    "Thus,  our outcome variable, change in average expected land devoted to fungi-resistant grapes in the 10 years associated with information type ($Y_1$ or ∆E[$S_i$]) can be computed as follows:\n",
    "\n",
    "If $S_i1$ refers to $S_i$ before treatment and $S_i2$ refers to $S_i$ after treatment, then our magnitude of change associated with information type (∆E[$S_i$]) = difference between before and after values between groups i.e., <br>\n",
    "1) for each experimental group, we compute ∆E[$S_i$] = E[$S_i2$] - E[$S_i1$] = (($a_2$+$b_2$+$m_2$)/3) - (($a_1$+$b_1$+$m_1$)/3) <br>\n",
    "2) we estimate treatment effect i.e., difference between treatment group values and control group <br>\n",
    "3) then we further examine the difference between values obtained between treatment groups; ∆E[$S_i$] = ∆E[$S_i$]_P - ∆E[$S_i$]_G. This difference should be approximately zero if personalized information does not change the expected devoted land compared to generalized information.\n",
    "\n",
    "HB examines change in uncertainty (variance) based on treatments P and G. Using triangular distribution variance $((a^2+b^2+m^2-a*b-a*m-b*m)/18)$, we would like to know 1) the difference between the variance of obtained posterior and prior values within groups and then 2) examine how this difference compares between treatment groups i.e., \n",
    "\n",
    "$Y_2$ or ∆V[$S_i$] associated with P = ∆V[$S_i$]_P - ∆V[$S_i$]_G\n",
    "\n",
    "We can however, easily accomplish all of the above with:<br>\n",
    "∆E[$S_i$]=α+$β_1$ $P_i$+$β_2$ $G_i$+θX+$ε_i$ <br>\n",
    "∆V[$S_i$]=α+$β_1$ $P_i$+$β_2$ $G_i$+θX+$ε_i$\n",
    "\n",
    "$P_i$ and $G_i$ are dummy equal to 1 if the participant received personal or general information, respectively, and 0 otherwise. <br>\n",
    "$β_1$ and $β_2$ show the additional change in expected devoted land based on the treatments. $β_1$ larger than $β_2$ implies larger change attributable to personalized information. <br>\n",
    "X is a vector of farmer-, farm- and location-specific control variables.\n",
    "\n",
    "***\n",
    "\n",
    "3b) Define the two treatment variables considered in the study (2 points)\n",
    "\n",
    "The two treatment variables considered are: 1) provision of general information (G) and 2) personalized information (P)\n",
    "\n",
    "\n",
    "***\n",
    "\n",
    "3c) Explain the experimental setup (in terms of who receives treatment) (3 points)\n",
    "\n",
    "We have two treatment groups (TG) and one control group in the experimental setup. <br>\n",
    "(TGi) personalized information: receive the general information plus the number of highly environmentally toxic fungicides they used in the last growing season based on their answers to earlier questions in the survey. <br>\n",
    "(TGii) General information: receives general information about the number of highly environmentally toxic fungicides approved in grapevine growing in Switzerland. <br>\n",
    "The control group receives no information\n",
    "\n",
    "***"
   ]
  },
  {
   "cell_type": "markdown",
   "id": "9b0651ee-f755-4e83-af3d-d93fa232166d",
   "metadata": {},
   "source": [
    "<div class=\"alert alert-block alert-danger\">\n",
    "\n",
    "a) Points: 4/4 (for each of the two outcome variables: 1 point for verbal, 1 point for formula)\n",
    "\n",
    "b) Points: 2/2 (1 point for each variable)\n",
    "\n",
    "c) Points: 3/3 (1 point for mentioning each of the 3 treatment groups)\n",
    "\n",
    "Feedback: Perfect    \n",
    "</div>"
   ]
  },
  {
   "cell_type": "markdown",
   "id": "ffb64fc3-66d1-43e5-86d8-01caf2099972",
   "metadata": {},
   "source": [
    "***\n",
    "<div class=\"alert alert-block alert-success\">\n",
    "\n",
    "__*Task 4*: Scientific Model DAG__ (6 Points)\n",
    "\n",
    "</div>\n",
    "\n",
    "\n",
    "Using the notation you introduced above draw a DAG of the scientific model outline in the preregistration.\n",
    "\n",
    "*Note: To make things easier ignore the dependence of the Xs (i.e. farmer-, farm- and location-specific control variables) on the outcomes. We will get back to this issues at a later state!*\n",
    "\n",
    "***"
   ]
  },
  {
   "cell_type": "code",
   "execution_count": 5,
   "id": "d09f8796-be75-440a-b1f1-2c04b000e669",
   "metadata": {},
   "outputs": [
    {
     "data": {
      "image/svg+xml": [
       "<?xml version=\"1.0\" encoding=\"UTF-8\" standalone=\"no\"?>\n",
       "<!DOCTYPE svg PUBLIC \"-//W3C//DTD SVG 1.1//EN\"\n",
       " \"http://www.w3.org/Graphics/SVG/1.1/DTD/svg11.dtd\">\n",
       "<!-- Generated by graphviz version 12.0.0 (20240803.0821)\n",
       " -->\n",
       "<!-- Pages: 1 -->\n",
       "<svg width=\"97pt\" height=\"188pt\"\n",
       " viewBox=\"0.00 0.00 97.49 188.00\" xmlns=\"http://www.w3.org/2000/svg\" xmlns:xlink=\"http://www.w3.org/1999/xlink\">\n",
       "<g id=\"graph0\" class=\"graph\" transform=\"scale(1 1) rotate(0) translate(4 184)\">\n",
       "<polygon fill=\"white\" stroke=\"none\" points=\"-4,4 -4,-184 93.49,-184 93.49,4 -4,4\"/>\n",
       "<!-- I -->\n",
       "<g id=\"node1\" class=\"node\">\n",
       "<title>I</title>\n",
       "<ellipse fill=\"none\" stroke=\"black\" cx=\"27\" cy=\"-90\" rx=\"27\" ry=\"18\"/>\n",
       "<text text-anchor=\"middle\" x=\"27\" y=\"-84.95\" font-family=\"Times,serif\" font-size=\"14.00\">Ice</text>\n",
       "</g>\n",
       "<!-- H -->\n",
       "<g id=\"node2\" class=\"node\">\n",
       "<title>H</title>\n",
       "<ellipse fill=\"white\" stroke=\"white\" cx=\"54\" cy=\"-18\" rx=\"35.49\" ry=\"18\"/>\n",
       "<text text-anchor=\"middle\" x=\"54\" y=\"-12.95\" font-family=\"Times,serif\" font-size=\"14.00\">Happy</text>\n",
       "</g>\n",
       "<!-- I&#45;&gt;H -->\n",
       "<g id=\"edge2\" class=\"edge\">\n",
       "<title>I&#45;&gt;H</title>\n",
       "<path fill=\"none\" stroke=\"black\" d=\"M33.54,-72.05C36.52,-64.32 40.13,-54.96 43.48,-46.27\"/>\n",
       "<polygon fill=\"black\" stroke=\"black\" points=\"46.65,-47.79 46.98,-37.2 40.12,-45.27 46.65,-47.79\"/>\n",
       "</g>\n",
       "<!-- S -->\n",
       "<g id=\"node3\" class=\"node\">\n",
       "<title>S</title>\n",
       "<ellipse fill=\"white\" stroke=\"white\" cx=\"54\" cy=\"-162\" rx=\"27\" ry=\"18\"/>\n",
       "<text text-anchor=\"middle\" x=\"54\" y=\"-156.95\" font-family=\"Times,serif\" font-size=\"14.00\">Sun</text>\n",
       "</g>\n",
       "<!-- S&#45;&gt;I -->\n",
       "<g id=\"edge3\" class=\"edge\">\n",
       "<title>S&#45;&gt;I</title>\n",
       "<path fill=\"none\" stroke=\"black\" d=\"M47.46,-144.05C44.48,-136.32 40.87,-126.96 37.52,-118.27\"/>\n",
       "<polygon fill=\"black\" stroke=\"black\" points=\"40.88,-117.27 34.02,-109.2 34.35,-119.79 40.88,-117.27\"/>\n",
       "</g>\n",
       "<!-- S&#45;&gt;H -->\n",
       "<g id=\"edge1\" class=\"edge\">\n",
       "<title>S&#45;&gt;H</title>\n",
       "<path fill=\"none\" stroke=\"black\" d=\"M57.65,-143.91C59.68,-133.57 61.98,-120.09 63,-108 64.34,-92.06 64.34,-87.94 63,-72 62.32,-63.97 61.08,-55.33 59.73,-47.4\"/>\n",
       "<polygon fill=\"black\" stroke=\"black\" points=\"63.17,-46.79 57.93,-37.58 56.29,-48.05 63.17,-46.79\"/>\n",
       "</g>\n",
       "</g>\n",
       "</svg>\n"
      ],
      "text/plain": [
       "<graphviz.graphs.Digraph at 0x7cc88caa8c80>"
      ]
     },
     "execution_count": 5,
     "metadata": {},
     "output_type": "execute_result"
    }
   ],
   "source": [
    "# Example using graphviz Digraph https://graphviz.readthedocs.io/en/stable/examples.html\n",
    "dot = Digraph()\n",
    "dot.node('I', 'Ice')\n",
    "dot.attr('node', style='filled', color='white') # Set color to white to indicate observed/unobserved variables\n",
    "dot.node('H', 'Happy')\n",
    "dot.node('S', 'Sun')\n",
    "dot.edges([('S','H'),('I','H'),('S','I')])\n",
    "dot \n"
   ]
  },
  {
   "cell_type": "code",
   "execution_count": 5,
   "id": "9e51b09a-a4e8-49f0-89e8-b518c5aa8475",
   "metadata": {
    "deletable": false,
    "nbgrader": {
     "cell_type": "code",
     "checksum": "3f0342c89cbe6d98c92d2b0a8f7f9807",
     "grade": true,
     "grade_id": "cell-2f6e10885612c69c",
     "locked": false,
     "points": 6,
     "schema_version": 3,
     "solution": true,
     "task": false
    }
   },
   "outputs": [
    {
     "data": {
      "image/svg+xml": [
       "<?xml version=\"1.0\" encoding=\"UTF-8\" standalone=\"no\"?>\n",
       "<!DOCTYPE svg PUBLIC \"-//W3C//DTD SVG 1.1//EN\"\n",
       " \"http://www.w3.org/Graphics/SVG/1.1/DTD/svg11.dtd\">\n",
       "<!-- Generated by graphviz version 12.0.0 (20240803.0821)\n",
       " -->\n",
       "<!-- Pages: 1 -->\n",
       "<svg width=\"282pt\" height=\"188pt\"\n",
       " viewBox=\"0.00 0.00 282.29 188.00\" xmlns=\"http://www.w3.org/2000/svg\" xmlns:xlink=\"http://www.w3.org/1999/xlink\">\n",
       "<g id=\"graph0\" class=\"graph\" transform=\"scale(1 1) rotate(0) translate(4 184)\">\n",
       "<polygon fill=\"white\" stroke=\"none\" points=\"-4,4 -4,-184 278.29,-184 278.29,4 -4,4\"/>\n",
       "<!-- T -->\n",
       "<g id=\"node1\" class=\"node\">\n",
       "<title>T</title>\n",
       "<ellipse fill=\"none\" stroke=\"black\" cx=\"121.28\" cy=\"-162\" rx=\"49.3\" ry=\"18\"/>\n",
       "<text text-anchor=\"middle\" x=\"121.28\" y=\"-156.95\" font-family=\"Times,serif\" font-size=\"14.00\">Treatment</text>\n",
       "</g>\n",
       "<!-- S -->\n",
       "<g id=\"node2\" class=\"node\">\n",
       "<title>S</title>\n",
       "<ellipse fill=\"none\" stroke=\"black\" cx=\"121.28\" cy=\"-90\" rx=\"109.7\" ry=\"18\"/>\n",
       "<text text-anchor=\"middle\" x=\"121.28\" y=\"-84.95\" font-family=\"Times,serif\" font-size=\"14.00\">Expected share of land (S)</text>\n",
       "</g>\n",
       "<!-- T&#45;&gt;S -->\n",
       "<g id=\"edge1\" class=\"edge\">\n",
       "<title>T&#45;&gt;S</title>\n",
       "<path fill=\"none\" stroke=\"black\" d=\"M121.28,-143.7C121.28,-136.41 121.28,-127.73 121.28,-119.54\"/>\n",
       "<polygon fill=\"black\" stroke=\"black\" points=\"124.78,-119.62 121.28,-109.62 117.78,-119.62 124.78,-119.62\"/>\n",
       "</g>\n",
       "<!-- ES -->\n",
       "<g id=\"node3\" class=\"node\">\n",
       "<title>ES</title>\n",
       "<ellipse fill=\"none\" stroke=\"black\" cx=\"48.28\" cy=\"-18\" rx=\"48.28\" ry=\"18\"/>\n",
       "<text text-anchor=\"middle\" x=\"48.28\" y=\"-12.95\" font-family=\"Times,serif\" font-size=\"14.00\">∆ Mean S</text>\n",
       "</g>\n",
       "<!-- S&#45;&gt;ES -->\n",
       "<g id=\"edge2\" class=\"edge\">\n",
       "<title>S&#45;&gt;ES</title>\n",
       "<path fill=\"none\" stroke=\"black\" d=\"M103.61,-72.05C94.6,-63.42 83.49,-52.76 73.59,-43.27\"/>\n",
       "<polygon fill=\"black\" stroke=\"black\" points=\"76.02,-40.75 66.38,-36.35 71.17,-45.8 76.02,-40.75\"/>\n",
       "</g>\n",
       "<!-- VS -->\n",
       "<g id=\"node4\" class=\"node\">\n",
       "<title>VS</title>\n",
       "<ellipse fill=\"none\" stroke=\"black\" cx=\"194.28\" cy=\"-18\" rx=\"80.01\" ry=\"18\"/>\n",
       "<text text-anchor=\"middle\" x=\"194.28\" y=\"-12.95\" font-family=\"Times,serif\" font-size=\"14.00\">∆ Uncertainty in S</text>\n",
       "</g>\n",
       "<!-- S&#45;&gt;VS -->\n",
       "<g id=\"edge3\" class=\"edge\">\n",
       "<title>S&#45;&gt;VS</title>\n",
       "<path fill=\"none\" stroke=\"black\" d=\"M138.95,-72.05C147.76,-63.61 158.59,-53.22 168.33,-43.89\"/>\n",
       "<polygon fill=\"black\" stroke=\"black\" points=\"170.63,-46.53 175.43,-37.08 165.79,-41.47 170.63,-46.53\"/>\n",
       "</g>\n",
       "</g>\n",
       "</svg>\n"
      ],
      "text/plain": [
       "<graphviz.graphs.Digraph at 0x7d8ae82d9d30>"
      ]
     },
     "execution_count": 5,
     "metadata": {},
     "output_type": "execute_result"
    }
   ],
   "source": [
    "dot = Digraph()\n",
    "dot.node('T', 'Treatment')\n",
    "dot.node('S', 'Expected share of land (S)')\n",
    "dot.node('ES', '∆ Mean S')\n",
    "dot.node('VS', '∆ Uncertainty in S')\n",
    "dot.edges([('T','S'), ('S', 'ES'), ('S', 'VS')])\n",
    "dot \n"
   ]
  },
  {
   "cell_type": "code",
   "execution_count": 6,
   "id": "bc137962-f5d0-4b0a-aac6-0c0aef6efa27",
   "metadata": {
    "nbgrader": {
     "cell_type": "code",
     "checksum": "3f0342c89cbe6d98c92d2b0a8f7f9807",
     "grade": true,
     "grade_id": "cell-2f6e10885612c69c",
     "locked": false,
     "points": 6,
     "schema_version": 3,
     "solution": true,
     "task": false
    }
   },
   "outputs": [
    {
     "data": {
      "image/svg+xml": [
       "<?xml version=\"1.0\" encoding=\"UTF-8\" standalone=\"no\"?>\n",
       "<!DOCTYPE svg PUBLIC \"-//W3C//DTD SVG 1.1//EN\"\n",
       " \"http://www.w3.org/Graphics/SVG/1.1/DTD/svg11.dtd\">\n",
       "<!-- Generated by graphviz version 12.0.0 (20240803.0821)\n",
       " -->\n",
       "<!-- Pages: 1 -->\n",
       "<svg width=\"282pt\" height=\"116pt\"\n",
       " viewBox=\"0.00 0.00 282.29 116.00\" xmlns=\"http://www.w3.org/2000/svg\" xmlns:xlink=\"http://www.w3.org/1999/xlink\">\n",
       "<g id=\"graph0\" class=\"graph\" transform=\"scale(1 1) rotate(0) translate(4 112)\">\n",
       "<polygon fill=\"white\" stroke=\"none\" points=\"-4,4 -4,-112 278.29,-112 278.29,4 -4,4\"/>\n",
       "<!-- T -->\n",
       "<g id=\"node1\" class=\"node\">\n",
       "<title>T</title>\n",
       "<ellipse fill=\"none\" stroke=\"black\" cx=\"121.28\" cy=\"-90\" rx=\"49.3\" ry=\"18\"/>\n",
       "<text text-anchor=\"middle\" x=\"121.28\" y=\"-84.95\" font-family=\"Times,serif\" font-size=\"14.00\">Treatment</text>\n",
       "</g>\n",
       "<!-- ES -->\n",
       "<g id=\"node2\" class=\"node\">\n",
       "<title>ES</title>\n",
       "<ellipse fill=\"none\" stroke=\"black\" cx=\"48.28\" cy=\"-18\" rx=\"48.28\" ry=\"18\"/>\n",
       "<text text-anchor=\"middle\" x=\"48.28\" y=\"-12.95\" font-family=\"Times,serif\" font-size=\"14.00\">∆ Mean S</text>\n",
       "</g>\n",
       "<!-- T&#45;&gt;ES -->\n",
       "<g id=\"edge1\" class=\"edge\">\n",
       "<title>T&#45;&gt;ES</title>\n",
       "<path fill=\"none\" stroke=\"black\" d=\"M104.35,-72.76C95.14,-63.93 83.56,-52.83 73.32,-43.01\"/>\n",
       "<polygon fill=\"black\" stroke=\"black\" points=\"75.85,-40.59 66.21,-36.19 71.01,-45.64 75.85,-40.59\"/>\n",
       "</g>\n",
       "<!-- VS -->\n",
       "<g id=\"node3\" class=\"node\">\n",
       "<title>VS</title>\n",
       "<ellipse fill=\"none\" stroke=\"black\" cx=\"194.28\" cy=\"-18\" rx=\"80.01\" ry=\"18\"/>\n",
       "<text text-anchor=\"middle\" x=\"194.28\" y=\"-12.95\" font-family=\"Times,serif\" font-size=\"14.00\">∆ Uncertainty in S</text>\n",
       "</g>\n",
       "<!-- T&#45;&gt;VS -->\n",
       "<g id=\"edge2\" class=\"edge\">\n",
       "<title>T&#45;&gt;VS</title>\n",
       "<path fill=\"none\" stroke=\"black\" d=\"M138.21,-72.76C147.23,-64.12 158.51,-53.3 168.58,-43.65\"/>\n",
       "<polygon fill=\"black\" stroke=\"black\" points=\"170.79,-46.37 175.59,-36.93 165.95,-41.32 170.79,-46.37\"/>\n",
       "</g>\n",
       "</g>\n",
       "</svg>\n"
      ],
      "text/plain": [
       "<graphviz.graphs.Digraph at 0x7d8ae82d9a00>"
      ]
     },
     "execution_count": 6,
     "metadata": {},
     "output_type": "execute_result"
    }
   ],
   "source": [
    "dot = Digraph()\n",
    "dot.node('T', 'Treatment')\n",
    "dot.node('ES', '∆ Mean S')\n",
    "dot.node('VS', '∆ Uncertainty in S')\n",
    "dot.edges([('T', 'ES'), ('T', 'VS')])\n",
    "dot \n"
   ]
  },
  {
   "cell_type": "markdown",
   "id": "fd78e71f-17e7-4461-918c-f53d3ff81061",
   "metadata": {},
   "source": [
    "<div class=\"alert alert-block alert-danger\">\n",
    "\n",
    "Points: 6/6 (4 Points for using sensible nodes, 2 points for sensible edges)\n",
    "\n",
    "</div>"
   ]
  },
  {
   "cell_type": "markdown",
   "id": "58f9cf3f-19e7-4165-aa24-7ad3f064c75d",
   "metadata": {
    "deletable": false,
    "nbgrader": {
     "cell_type": "markdown",
     "checksum": "36b88473246ffcfeb7376615ab8ade6e",
     "grade": true,
     "grade_id": "cell-592ec0139b57cd03",
     "locked": false,
     "points": 6,
     "schema_version": 3,
     "solution": true,
     "task": false
    }
   },
   "source": [
    "***\n",
    "\n",
    "<div class=\"alert alert-block alert-success\">\n",
    "\n",
    "__*Task 5*: Generative Statistical model__ (6 Points)\n",
    "\n",
    "</div>\n",
    "\n",
    "Using the notation of the variables above to define a generative model that fits to your DAG. Note as we have two outcome variables (for the two hypothesis) we basically need two differnce generative models.\n",
    "\n",
    "*For example for a simple linear regression this could look like*\n",
    "\n",
    "$ y_i \\sim Normal(\\mu_i,\\sigma) $\n",
    "\n",
    "$ \\mu_i = \\beta_0 + beta_1 X_{1 i} + beta_2 X_{2 i} $\n",
    "\n",
    "$ \\beta_j \\sim Normal(0,1) $ for $j=0,1,2$\n",
    "\n",
    "$ \\sigma \\sim Exponential(1)$\n",
    "\n",
    "*Consider the other examples in the lecture or the book. Importantly, adjust and define all the variables/symbols you are using, if not already done above*\n",
    "\n",
    "***\n",
    "\n",
    "HA:\n",
    "\n",
    "$∆E[S_i] \\sim Normal(\\mu_i,\\sigma)$\n",
    "\n",
    "$\\mu_i = \\alpha + \\beta_1 P_i + \\beta_2 G_i + \\theta X$\n",
    "\n",
    "$\\alpha \\sim Normal(0,0.5)$\n",
    "\n",
    "$ \\beta_j \\sim Normal(0,1) $ for $j=1,2$\n",
    "\n",
    "$\\theta \\sim Normal(0,0.1)$\n",
    "\n",
    "$\\sigma \\sim Exponential(1)$\n",
    "\n",
    "where α, β1, and β2 represent a change in mean $S_i$ for the control group, additional change attributable to treatment P, and additional change attributable to treatment G, respectively.\n",
    "\n",
    "HB:\n",
    "\n",
    "$∆V[S_i] \\sim Normal(\\mu_i,\\sigma)$\n",
    "\n",
    "$\\mu_i = \\alpha + \\beta_1 P_i + \\beta_2 G_i + \\theta X$\n",
    "\n",
    "$\\alpha \\sim Normal(0,0.5)$\n",
    "\n",
    "$ \\beta_j \\sim Normal(0,0.1) $ for $j=1,2$\n",
    "\n",
    "$\\theta \\sim Normal(0,0.1)$\n",
    "\n",
    "$\\sigma \\sim Exponential(1)$\n",
    "\n",
    "where α, β1, and β2 represent a change in variance in $S_i$ for the control group, additional change attributable to treatment P, and additional change attributable to treatment G, respectively.\n"
   ]
  },
  {
   "cell_type": "markdown",
   "id": "033ee4f0-e940-4d41-ba66-4430b535c409",
   "metadata": {},
   "source": [
    "<div class=\"alert alert-block alert-danger\">\n",
    "\n",
    "Points: 5/6 (3 points per outcome variable, 1 point for defining a complete model sufficient to sample from, 1 point alignment with DAG, 1 point correct math notation)\n",
    "\n",
    "Feedback: Correct; for a clearer notation, it would make sense to use different symbols for the coefficients in the two models. If we read the model literally, it would imply that we have the same $\\alpha$, $\\beta_1$, and $\\beta_2$ in both models. For alignment with DAG we could have considered $P$ and $G$ in the DAG, instead of just \"treatment\". Additionally, $X$ is not considered in DAG but in the statistical model. \n",
    "\n",
    "</div>"
   ]
  },
  {
   "cell_type": "markdown",
   "id": "688c1f82-46bc-4576-a6d6-259a7084c8b2",
   "metadata": {
    "deletable": false,
    "nbgrader": {
     "cell_type": "markdown",
     "checksum": "5779ee19b3e39be46516eaec855ada27",
     "grade": true,
     "grade_id": "cell-c75cd245b4ff33d1",
     "locked": false,
     "points": 4,
     "schema_version": 3,
     "solution": true,
     "task": false
    }
   },
   "source": [
    "***\n",
    "\n",
    "<div class=\"alert alert-block alert-success\">\n",
    "\n",
    "__*Task 6*: Define exactly how you could test the two hypothesis from above in terms of your statistical model (4 points)__\n",
    "\n",
    "*Example*\n",
    "\n",
    "In notebook_01 our hypothesis was \"Soil quality has a positive effect on yield\"\n",
    "\n",
    "In terms of our model we could test this hypothesis by testing if  $\\beta > 0$\n",
    "\n",
    "\n",
    "</div>\n",
    "\n",
    "***\n",
    "Hypothesis A:   \n",
    "HA<sub>1</sub>: Compared to generalized information, provision of personalized information results in larger change in expected land devoted to fungi-resistant grapes in the future   \n",
    "HA<sub>0</sub>: There is no difference in change in expected land devoted to fungi-resistant grapes in the future as a result of the provision of personalized information rather than generalized information\n",
    "\n",
    "Hypothesis B:   \n",
    "HB<sub>1</sub>: Personalized information changes the uncertainty related to the land devoted to fungi-resistant grapevines   \n",
    "HB<sub>0</sub>: Personalized information does not change the uncertainty related to the land devoted to fungi-resistant grapevines\n",
    "\n",
    "\n",
    "$β_1$ and $β_2$ show the additional change in mean (HA) expected devoted land and uncertainty (HB) based on the treatments. $β_1$ larger than $β_2$ implies larger change attributable to personalized information. <br>\n",
    "\n",
    "***"
   ]
  },
  {
   "cell_type": "markdown",
   "id": "b5a283de-e036-4e93-b087-d5b51a433d97",
   "metadata": {},
   "source": [
    "<div class=\"alert alert-block alert-danger\">\n",
    "\n",
    "Points: 3/4 (2 points per Hypothesis. 1 point for correct notation i.e. alignment with stats model, 1 point for alignment with hypothesis above)\n",
    "\n",
    "Feedback: Mostly correct, but the answer could be more precise. First, having $\\alpha$, $\\beta_1$, and $\\beta_2$ in both models makes precise definition difficult. Additionally, if we defined hypothesis B without a direction, as \"Personalized information changes the uncertainty related to the land devoted to fungi-resistant grapevine\" then a precise test would only require to test if $\\beta_1 \\neq 0$ \n",
    "\n",
    "\n",
    "</div>"
   ]
  },
  {
   "cell_type": "code",
   "execution_count": null,
   "id": "36bac52a-e65b-49b1-8e73-622668cde91a",
   "metadata": {},
   "outputs": [],
   "source": []
  }
 ],
 "metadata": {
  "kernelspec": {
   "display_name": "Python 3 (ipykernel)",
   "language": "python",
   "name": "python3"
  },
  "language_info": {
   "codemirror_mode": {
    "name": "ipython",
    "version": 3
   },
   "file_extension": ".py",
   "mimetype": "text/x-python",
   "name": "python",
   "nbconvert_exporter": "python",
   "pygments_lexer": "ipython3",
   "version": "3.12.7"
  }
 },
 "nbformat": 4,
 "nbformat_minor": 5
}
