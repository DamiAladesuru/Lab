{
 "cells": [
  {
   "cell_type": "code",
   "execution_count": 1,
   "metadata": {},
   "outputs": [],
   "source": [
    "import pickle\n",
    "import geopandas as gpd\n",
    "import pandas as pd\n",
    "import os\n",
    "import math as m"
   ]
  },
  {
   "cell_type": "code",
   "execution_count": 2,
   "metadata": {},
   "outputs": [
    {
     "name": "stdout",
     "output_type": "stream",
     "text": [
      "C:\\Users\\aladesuru\\sciebo\\StormLab\\Research\\Damilola\\DataAnalysis\\Lab\\Niedersachsen\n"
     ]
    }
   ],
   "source": [
    "# Change the current working directory\n",
    "os.chdir('C:/Users/aladesuru/sciebo/StormLab/Research/Damilola/DataAnalysis/Lab/Niedersachsen')\n",
    "# Print the current working directory to verify the change\n",
    "print(os.getcwd())"
   ]
  },
  {
   "cell_type": "markdown",
   "metadata": {},
   "source": [
    "# Load pickle file"
   ]
  },
  {
   "cell_type": "code",
   "execution_count": 3,
   "metadata": {},
   "outputs": [
    {
     "name": "stdout",
     "output_type": "stream",
     "text": [
      "<class 'geopandas.geodataframe.GeoDataFrame'>\n",
      "Index: 10883342 entries, 2 to 480626\n",
      "Data columns (total 9 columns):\n",
      " #   Column     Dtype   \n",
      "---  ------     -----   \n",
      " 0   id         int64   \n",
      " 1   FLIK       object  \n",
      " 2   year       int32   \n",
      " 3   area_m2    float64 \n",
      " 4   peri_m     float64 \n",
      " 5   shp_index  float64 \n",
      " 6   fract      float64 \n",
      " 7   CELLCODE   object  \n",
      " 8   geometry   geometry\n",
      "dtypes: float64(4), geometry(1), int32(1), int64(1), object(2)\n",
      "memory usage: 788.8+ MB\n"
     ]
    },
    {
     "data": {
      "text/html": [
       "<div>\n",
       "<style scoped>\n",
       "    .dataframe tbody tr th:only-of-type {\n",
       "        vertical-align: middle;\n",
       "    }\n",
       "\n",
       "    .dataframe tbody tr th {\n",
       "        vertical-align: top;\n",
       "    }\n",
       "\n",
       "    .dataframe thead th {\n",
       "        text-align: right;\n",
       "    }\n",
       "</style>\n",
       "<table border=\"1\" class=\"dataframe\">\n",
       "  <thead>\n",
       "    <tr style=\"text-align: right;\">\n",
       "      <th></th>\n",
       "      <th>id</th>\n",
       "      <th>FLIK</th>\n",
       "      <th>year</th>\n",
       "      <th>area_m2</th>\n",
       "      <th>peri_m</th>\n",
       "      <th>shp_index</th>\n",
       "      <th>fract</th>\n",
       "      <th>CELLCODE</th>\n",
       "      <th>geometry</th>\n",
       "    </tr>\n",
       "  </thead>\n",
       "  <tbody>\n",
       "    <tr>\n",
       "      <th>2</th>\n",
       "      <td>2</td>\n",
       "      <td>DENILI0414780096</td>\n",
       "      <td>2012</td>\n",
       "      <td>15703.427395</td>\n",
       "      <td>578.467014</td>\n",
       "      <td>1.302196</td>\n",
       "      <td>1.316626</td>\n",
       "      <td>10kmE434N334</td>\n",
       "      <td>POLYGON ((586867.422 5897421.974, 586647.781 5...</td>\n",
       "    </tr>\n",
       "    <tr>\n",
       "      <th>3</th>\n",
       "      <td>3</td>\n",
       "      <td>DENILI1022670011</td>\n",
       "      <td>2012</td>\n",
       "      <td>245.197084</td>\n",
       "      <td>123.057997</td>\n",
       "      <td>2.216906</td>\n",
       "      <td>1.749401</td>\n",
       "      <td>10kmE430N332</td>\n",
       "      <td>POLYGON ((553668.492 5875236.581, 553684.023 5...</td>\n",
       "    </tr>\n",
       "    <tr>\n",
       "      <th>4</th>\n",
       "      <td>4</td>\n",
       "      <td>DENILI0402500114</td>\n",
       "      <td>2012</td>\n",
       "      <td>10863.828285</td>\n",
       "      <td>440.057366</td>\n",
       "      <td>1.191003</td>\n",
       "      <td>1.309971</td>\n",
       "      <td>10kmE418N339</td>\n",
       "      <td>POLYGON ((428044.838 5941127.279, 428044.115 5...</td>\n",
       "    </tr>\n",
       "    <tr>\n",
       "      <th>5</th>\n",
       "      <td>5</td>\n",
       "      <td>DENILI0919270076</td>\n",
       "      <td>2012</td>\n",
       "      <td>3678.626252</td>\n",
       "      <td>283.778694</td>\n",
       "      <td>1.319873</td>\n",
       "      <td>1.375881</td>\n",
       "      <td>10kmE421N330</td>\n",
       "      <td>POLYGON ((462855.306 5854847.840, 462754.791 5...</td>\n",
       "    </tr>\n",
       "    <tr>\n",
       "      <th>6</th>\n",
       "      <td>6</td>\n",
       "      <td>DENILI0825740002</td>\n",
       "      <td>2012</td>\n",
       "      <td>2413.421262</td>\n",
       "      <td>227.650693</td>\n",
       "      <td>1.307216</td>\n",
       "      <td>1.393748</td>\n",
       "      <td>10kmE435N330</td>\n",
       "      <td>POLYGON ((604705.953 5858831.705, 604729.937 5...</td>\n",
       "    </tr>\n",
       "  </tbody>\n",
       "</table>\n",
       "</div>"
      ],
      "text/plain": [
       "   id              FLIK  year       area_m2      peri_m  shp_index     fract  \\\n",
       "2   2  DENILI0414780096  2012  15703.427395  578.467014   1.302196  1.316626   \n",
       "3   3  DENILI1022670011  2012    245.197084  123.057997   2.216906  1.749401   \n",
       "4   4  DENILI0402500114  2012  10863.828285  440.057366   1.191003  1.309971   \n",
       "5   5  DENILI0919270076  2012   3678.626252  283.778694   1.319873  1.375881   \n",
       "6   6  DENILI0825740002  2012   2413.421262  227.650693   1.307216  1.393748   \n",
       "\n",
       "       CELLCODE                                           geometry  \n",
       "2  10kmE434N334  POLYGON ((586867.422 5897421.974, 586647.781 5...  \n",
       "3  10kmE430N332  POLYGON ((553668.492 5875236.581, 553684.023 5...  \n",
       "4  10kmE418N339  POLYGON ((428044.838 5941127.279, 428044.115 5...  \n",
       "5  10kmE421N330  POLYGON ((462855.306 5854847.840, 462754.791 5...  \n",
       "6  10kmE435N330  POLYGON ((604705.953 5858831.705, 604729.937 5...  "
      ]
     },
     "execution_count": 3,
     "metadata": {},
     "output_type": "execute_result"
    }
   ],
   "source": [
    "with open('data/interim/gld.pkl', 'rb') as f:\n",
    "    gld = pickle.load(f)\n",
    "gld.info()    \n",
    "gld.head() "
   ]
  },
  {
   "cell_type": "markdown",
   "metadata": {},
   "source": [
    "# Field/ landscape level descriptive statistics"
   ]
  },
  {
   "cell_type": "code",
   "execution_count": null,
   "metadata": {},
   "outputs": [],
   "source": [
    "    # total number of fields per year\n",
    "    # min, max and mean value of field size, peri and shape index\n",
    "    # per year across landscape. We could have a box plot of these values\n",
    "    # across years.\n",
    "ldscp1_desc_stats = gld.groupby('year')[['area_m2', 'peri_m', 'shp_index',\\\n",
    "    'fract']].describe()\n",
    "ldscp1_desc_stats.to_csv('reports/statistics/ldscp1_desc_stats.csv') \n",
    "#save to csv"
   ]
  },
  {
   "cell_type": "markdown",
   "metadata": {},
   "source": [
    "# Grid level descriptive statistics"
   ]
  },
  {
   "cell_type": "code",
   "execution_count": 4,
   "metadata": {},
   "outputs": [
    {
     "name": "stdout",
     "output_type": "stream",
     "text": [
      "gridcount = 1019\n"
     ]
    },
    {
     "data": {
      "text/html": [
       "<div>\n",
       "<style scoped>\n",
       "    .dataframe tbody tr th:only-of-type {\n",
       "        vertical-align: middle;\n",
       "    }\n",
       "\n",
       "    .dataframe tbody tr th {\n",
       "        vertical-align: top;\n",
       "    }\n",
       "\n",
       "    .dataframe thead th {\n",
       "        text-align: right;\n",
       "    }\n",
       "</style>\n",
       "<table border=\"1\" class=\"dataframe\">\n",
       "  <thead>\n",
       "    <tr style=\"text-align: right;\">\n",
       "      <th></th>\n",
       "      <th>area_m2</th>\n",
       "      <th>peri_m</th>\n",
       "      <th>shp_index</th>\n",
       "      <th>fract</th>\n",
       "    </tr>\n",
       "    <tr>\n",
       "      <th>CELLCODE</th>\n",
       "      <th></th>\n",
       "      <th></th>\n",
       "      <th></th>\n",
       "      <th></th>\n",
       "    </tr>\n",
       "  </thead>\n",
       "  <tbody>\n",
       "  </tbody>\n",
       "</table>\n",
       "</div>"
      ],
      "text/plain": [
       "Empty DataFrame\n",
       "Columns: [area_m2, peri_m, shp_index, fract]\n",
       "Index: []"
      ]
     },
     "execution_count": 4,
     "metadata": {},
     "output_type": "execute_result"
    }
   ],
   "source": [
    "# total number of grids within the geographic boundaries of the study area\n",
    "print(\"gridcount =\", gld['CELLCODE'].nunique())\n",
    "\n",
    "# Create table of year, grid id, number of fields in grid, mean field size, sd_fs, mean peri, sd_peri, mean shape index, sd_shape index.\n",
    "griddf = gld[['year', 'CELLCODE']].copy()\n",
    "\n",
    "# Before we continue, first check if number of entries for area_m2, peri_m, shp and fract within each cellcode is thesame\n",
    "counts = gld.groupby('CELLCODE')[['area_m2', 'peri_m', 'shp_index', 'fract']].count()\n",
    "same_counts = (counts['area_m2'] == counts['peri_m']) & (counts['area_m2'] == counts['shp_index']) & (counts['area_m2'] == counts['fract'])\n",
    "different_counts = counts[~same_counts]\n",
    "different_counts"
   ]
  },
  {
   "cell_type": "markdown",
   "metadata": {},
   "source": [
    "1. Number of fields per grid"
   ]
  },
  {
   "cell_type": "code",
   "execution_count": 5,
   "metadata": {},
   "outputs": [],
   "source": [
    "fields = gld.groupby(['year', 'CELLCODE'])['area_m2'].count().reset_index()\n",
    "fields.columns = ['year', 'CELLCODE', 'fields']\n",
    "fields.head()\n",
    "griddf = pd.merge(griddf, fields, on=['year', 'CELLCODE'])"
   ]
  },
  {
   "cell_type": "markdown",
   "metadata": {},
   "source": [
    "2. Sum of field size per grid"
   ]
  },
  {
   "cell_type": "code",
   "execution_count": 6,
   "metadata": {},
   "outputs": [],
   "source": [
    "fs_sum = gld.groupby(['year', 'CELLCODE'])['area_m2'].sum().reset_index()\n",
    "fs_sum.columns = ['year', 'CELLCODE', 'fs_sum']\n",
    "fs_sum.head()\n",
    "griddf = pd.merge(griddf, fs_sum, on=['year', 'CELLCODE'])\n"
   ]
  },
  {
   "cell_type": "markdown",
   "metadata": {},
   "source": [
    "3. Mean field size in the grid"
   ]
  },
  {
   "cell_type": "code",
   "execution_count": 7,
   "metadata": {},
   "outputs": [],
   "source": [
    "\n",
    "griddf['mfs_ha'] = (griddf['fs_sum'] / griddf['fields'])*(1/10000)\n"
   ]
  },
  {
   "cell_type": "markdown",
   "metadata": {},
   "source": [
    "4. Standard deviation of field size in the grid (ha)"
   ]
  },
  {
   "cell_type": "code",
   "execution_count": 8,
   "metadata": {},
   "outputs": [],
   "source": [
    "sdfs_ha = gld.groupby(['year', 'CELLCODE'])['area_m2'].std()*(1/10000)\n",
    "sdfs_ha = sdfs_ha.reset_index()\n",
    "sdfs_ha.columns = ['year', 'CELLCODE', 'sdfs_ha']\n",
    "griddf = pd.merge(griddf, sdfs_ha, on=['year', 'CELLCODE'])\n",
    "\n"
   ]
  },
  {
   "cell_type": "markdown",
   "metadata": {},
   "source": [
    "5. Since thesame, then we can use fields column as number of fields in the grid, sum of field peri per grid"
   ]
  },
  {
   "cell_type": "code",
   "execution_count": 9,
   "metadata": {},
   "outputs": [],
   "source": [
    "\n",
    "peri_sum = gld.groupby(['year', 'CELLCODE'])['peri_m'].sum().reset_index()\n",
    "peri_sum.columns = ['year', 'CELLCODE', 'peri_sum']\n",
    "peri_sum.head()\n",
    "griddf = pd.merge(griddf, peri_sum, on=['year', 'CELLCODE'])\n"
   ]
  },
  {
   "cell_type": "markdown",
   "metadata": {},
   "source": [
    "6. Mean perimeter in the grids"
   ]
  },
  {
   "cell_type": "code",
   "execution_count": 10,
   "metadata": {},
   "outputs": [],
   "source": [
    "griddf['mperi'] = (griddf['peri_sum'] / griddf['fields'])\n"
   ]
  },
  {
   "cell_type": "markdown",
   "metadata": {},
   "source": [
    "7. Standard deviation of perimeter in the grids"
   ]
  },
  {
   "cell_type": "code",
   "execution_count": 11,
   "metadata": {},
   "outputs": [],
   "source": [
    "sdperi = gld.groupby(['year', 'CELLCODE'])['peri_m'].std()\n",
    "sdperi = sdperi.reset_index()\n",
    "sdperi.columns = ['year', 'CELLCODE', 'sdperi']\n",
    "griddf = pd.merge(griddf, sdperi, on=['year', 'CELLCODE'])"
   ]
  },
  {
   "cell_type": "markdown",
   "metadata": {},
   "source": [
    "8. Mean shape index in the grids"
   ]
  },
  {
   "cell_type": "code",
   "execution_count": 12,
   "metadata": {},
   "outputs": [],
   "source": [
    "mean_shp = gld.groupby(['year', 'CELLCODE'])['shp_index'].mean().reset_index()\n",
    "mean_shp.columns = ['year', 'CELLCODE', 'mean_shp']\n",
    "griddf = pd.merge(griddf, mean_shp, on=['year', 'CELLCODE'])\n"
   ]
  },
  {
   "cell_type": "markdown",
   "metadata": {},
   "source": [
    "9. Standard deviation of shape index in the grids"
   ]
  },
  {
   "cell_type": "code",
   "execution_count": 13,
   "metadata": {},
   "outputs": [],
   "source": [
    "sd_shp = gld.groupby(['year', 'CELLCODE'])['shp_index'].std().reset_index()\n",
    "sd_shp.columns = ['year', 'CELLCODE', 'sd_shp']\n",
    "griddf = pd.merge(griddf, sd_shp, on=['year', 'CELLCODE'])\n"
   ]
  },
  {
   "cell_type": "markdown",
   "metadata": {},
   "source": [
    "10. Mean fractal dimension in the grids"
   ]
  },
  {
   "cell_type": "code",
   "execution_count": 14,
   "metadata": {},
   "outputs": [],
   "source": [
    "mean_fract = gld.groupby(['year', 'CELLCODE'])['fract'].mean().reset_index()\n",
    "mean_fract.columns = ['year', 'CELLCODE', 'mean_fract']\n",
    "griddf = pd.merge(griddf, mean_fract, on=['year', 'CELLCODE'])\n"
   ]
  },
  {
   "cell_type": "markdown",
   "metadata": {},
   "source": [
    "11. Standard deviation of fractal dimension in the grids"
   ]
  },
  {
   "cell_type": "code",
   "execution_count": 15,
   "metadata": {},
   "outputs": [],
   "source": [
    "sd_fract = gld.groupby(['year', 'CELLCODE'])['fract'].std().reset_index()\n",
    "sd_fract.columns = ['year', 'CELLCODE', 'sd_fract']\n",
    "griddf = pd.merge(griddf, sd_fract, on=['year', 'CELLCODE'])"
   ]
  },
  {
   "cell_type": "code",
   "execution_count": 17,
   "metadata": {},
   "outputs": [
    {
     "data": {
      "text/html": [
       "<div>\n",
       "<style scoped>\n",
       "    .dataframe tbody tr th:only-of-type {\n",
       "        vertical-align: middle;\n",
       "    }\n",
       "\n",
       "    .dataframe tbody tr th {\n",
       "        vertical-align: top;\n",
       "    }\n",
       "\n",
       "    .dataframe thead th {\n",
       "        text-align: right;\n",
       "    }\n",
       "</style>\n",
       "<table border=\"1\" class=\"dataframe\">\n",
       "  <thead>\n",
       "    <tr style=\"text-align: right;\">\n",
       "      <th></th>\n",
       "      <th>year</th>\n",
       "      <th>CELLCODE</th>\n",
       "      <th>fields</th>\n",
       "      <th>fs_sum</th>\n",
       "      <th>mfs_ha</th>\n",
       "      <th>sdfs_ha</th>\n",
       "      <th>peri_sum</th>\n",
       "      <th>mperi</th>\n",
       "      <th>sdperi</th>\n",
       "      <th>mean_shp</th>\n",
       "      <th>sd_shp</th>\n",
       "      <th>mean_fract</th>\n",
       "      <th>sd_fract</th>\n",
       "    </tr>\n",
       "  </thead>\n",
       "  <tbody>\n",
       "    <tr>\n",
       "      <th>0</th>\n",
       "      <td>2012</td>\n",
       "      <td>10kmE434N334</td>\n",
       "      <td>1341</td>\n",
       "      <td>4.314750e+07</td>\n",
       "      <td>3.217562</td>\n",
       "      <td>4.046473</td>\n",
       "      <td>1.093294e+06</td>\n",
       "      <td>815.282567</td>\n",
       "      <td>504.445713</td>\n",
       "      <td>1.608920</td>\n",
       "      <td>0.694500</td>\n",
       "      <td>1.358011</td>\n",
       "      <td>0.102878</td>\n",
       "    </tr>\n",
       "    <tr>\n",
       "      <th>1</th>\n",
       "      <td>2012</td>\n",
       "      <td>10kmE430N332</td>\n",
       "      <td>1724</td>\n",
       "      <td>5.343785e+07</td>\n",
       "      <td>3.099643</td>\n",
       "      <td>3.129916</td>\n",
       "      <td>1.327503e+06</td>\n",
       "      <td>770.013466</td>\n",
       "      <td>393.914503</td>\n",
       "      <td>1.461039</td>\n",
       "      <td>0.587853</td>\n",
       "      <td>1.335254</td>\n",
       "      <td>0.096564</td>\n",
       "    </tr>\n",
       "    <tr>\n",
       "      <th>2</th>\n",
       "      <td>2012</td>\n",
       "      <td>10kmE418N339</td>\n",
       "      <td>2881</td>\n",
       "      <td>8.393772e+07</td>\n",
       "      <td>2.913492</td>\n",
       "      <td>2.751341</td>\n",
       "      <td>2.231098e+06</td>\n",
       "      <td>774.418028</td>\n",
       "      <td>427.116027</td>\n",
       "      <td>1.371696</td>\n",
       "      <td>0.362438</td>\n",
       "      <td>1.316281</td>\n",
       "      <td>0.050521</td>\n",
       "    </tr>\n",
       "    <tr>\n",
       "      <th>3</th>\n",
       "      <td>2012</td>\n",
       "      <td>10kmE421N330</td>\n",
       "      <td>2113</td>\n",
       "      <td>6.856458e+07</td>\n",
       "      <td>3.244892</td>\n",
       "      <td>3.222869</td>\n",
       "      <td>1.646686e+06</td>\n",
       "      <td>779.311949</td>\n",
       "      <td>396.365678</td>\n",
       "      <td>1.394458</td>\n",
       "      <td>0.380000</td>\n",
       "      <td>1.323164</td>\n",
       "      <td>0.069188</td>\n",
       "    </tr>\n",
       "    <tr>\n",
       "      <th>4</th>\n",
       "      <td>2012</td>\n",
       "      <td>10kmE435N330</td>\n",
       "      <td>880</td>\n",
       "      <td>2.728940e+07</td>\n",
       "      <td>3.101068</td>\n",
       "      <td>3.196208</td>\n",
       "      <td>6.725831e+05</td>\n",
       "      <td>764.298951</td>\n",
       "      <td>371.213426</td>\n",
       "      <td>1.442224</td>\n",
       "      <td>0.456130</td>\n",
       "      <td>1.332436</td>\n",
       "      <td>0.079198</td>\n",
       "    </tr>\n",
       "  </tbody>\n",
       "</table>\n",
       "</div>"
      ],
      "text/plain": [
       "   year      CELLCODE  fields        fs_sum    mfs_ha   sdfs_ha      peri_sum  \\\n",
       "0  2012  10kmE434N334    1341  4.314750e+07  3.217562  4.046473  1.093294e+06   \n",
       "1  2012  10kmE430N332    1724  5.343785e+07  3.099643  3.129916  1.327503e+06   \n",
       "2  2012  10kmE418N339    2881  8.393772e+07  2.913492  2.751341  2.231098e+06   \n",
       "3  2012  10kmE421N330    2113  6.856458e+07  3.244892  3.222869  1.646686e+06   \n",
       "4  2012  10kmE435N330     880  2.728940e+07  3.101068  3.196208  6.725831e+05   \n",
       "\n",
       "        mperi      sdperi  mean_shp    sd_shp  mean_fract  sd_fract  \n",
       "0  815.282567  504.445713  1.608920  0.694500    1.358011  0.102878  \n",
       "1  770.013466  393.914503  1.461039  0.587853    1.335254  0.096564  \n",
       "2  774.418028  427.116027  1.371696  0.362438    1.316281  0.050521  \n",
       "3  779.311949  396.365678  1.394458  0.380000    1.323164  0.069188  \n",
       "4  764.298951  371.213426  1.442224  0.456130    1.332436  0.079198  "
      ]
     },
     "execution_count": 17,
     "metadata": {},
     "output_type": "execute_result"
    }
   ],
   "source": [
    "griddf.head()"
   ]
  },
  {
   "cell_type": "code",
   "execution_count": 16,
   "metadata": {},
   "outputs": [],
   "source": [
    "# Save to csv\n",
    "griddf.to_csv('data/interim/griddf.csv')"
   ]
  },
  {
   "cell_type": "code",
   "execution_count": null,
   "metadata": {},
   "outputs": [],
   "source": [
    "import qgrid.enable()\n",
    "qgrid_widget = qgrid.show_grid(griddf, show_toolbar=True)\n",
    "qgrid_widget"
   ]
  }
 ],
 "metadata": {
  "kernelspec": {
   "display_name": "Lab-wJx68UC_",
   "language": "python",
   "name": "python3"
  },
  "language_info": {
   "codemirror_mode": {
    "name": "ipython",
    "version": 3
   },
   "file_extension": ".py",
   "mimetype": "text/x-python",
   "name": "python",
   "nbconvert_exporter": "python",
   "pygments_lexer": "ipython3",
   "version": "3.11.2"
  }
 },
 "nbformat": 4,
 "nbformat_minor": 2
}
